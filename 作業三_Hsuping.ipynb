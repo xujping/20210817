{
  "nbformat": 4,
  "nbformat_minor": 0,
  "metadata": {
    "kernelspec": {
      "display_name": "Python 3",
      "language": "python",
      "name": "python3"
    },
    "language_info": {
      "codemirror_mode": {
        "name": "ipython",
        "version": 3
      },
      "file_extension": ".py",
      "mimetype": "text/x-python",
      "name": "python",
      "nbconvert_exporter": "python",
      "pygments_lexer": "ipython3",
      "version": "3.7.3"
    },
    "colab": {
      "name": "作業三_Hsuping.ipynb",
      "provenance": [],
      "collapsed_sections": [],
      "include_colab_link": true
    },
    "accelerator": "GPU"
  },
  "cells": [
    {
      "cell_type": "markdown",
      "metadata": {
        "id": "view-in-github",
        "colab_type": "text"
      },
      "source": [
        "<a href=\"https://colab.research.google.com/github/xujping/20210817/blob/main/%E4%BD%9C%E6%A5%AD%E4%B8%89_Hsuping.ipynb\" target=\"_parent\"><img src=\"https://colab.research.google.com/assets/colab-badge.svg\" alt=\"Open In Colab\"/></a>"
      ]
    },
    {
      "cell_type": "code",
      "metadata": {
        "id": "Eu4v1uT81NIG"
      },
      "source": [
        "%matplotlib inline\n",
        "\n",
        "import numpy as np\n",
        "import matplotlib.pyplot as plt\n",
        "import pandas as pd"
      ],
      "execution_count": 1,
      "outputs": []
    },
    {
      "cell_type": "code",
      "metadata": {
        "id": "ZfjgjJFZ1NIL"
      },
      "source": [
        "from tensorflow.keras.utils import to_categorical\n",
        "from tensorflow.keras.models import Sequential\n",
        "from tensorflow.keras.layers import Dense\n"
      ],
      "execution_count": 2,
      "outputs": []
    },
    {
      "cell_type": "markdown",
      "metadata": {
        "id": "pa82jYF-1NIN"
      },
      "source": [
        "### 1. 讀入 MNSIT 數據集"
      ]
    },
    {
      "cell_type": "code",
      "metadata": {
        "id": "em8pOdMg1NIR"
      },
      "source": [
        "from tensorflow.keras.datasets import mnist"
      ],
      "execution_count": 3,
      "outputs": []
    },
    {
      "cell_type": "code",
      "metadata": {
        "id": "9SA9Rkhn1NIS"
      },
      "source": [
        "(x_train, y_train), (x_test, y_test) = mnist.load_data()"
      ],
      "execution_count": 4,
      "outputs": []
    },
    {
      "cell_type": "code",
      "metadata": {
        "colab": {
          "base_uri": "https://localhost:8080/"
        },
        "id": "0no7sPsU3sEy",
        "outputId": "a987f60d-c46b-4b73-c397-b61a6ef15270"
      },
      "source": [
        "from google.colab import drive\n",
        "drive.mount('/content/drive')"
      ],
      "execution_count": 5,
      "outputs": [
        {
          "output_type": "stream",
          "name": "stdout",
          "text": [
            "Drive already mounted at /content/drive; to attempt to forcibly remount, call drive.mount(\"/content/drive\", force_remount=True).\n"
          ]
        }
      ]
    },
    {
      "cell_type": "markdown",
      "metadata": {
        "id": "XbCi0Kk41NIT"
      },
      "source": [
        "#### 你也可以讀入 Fasion 版的 MNIST"
      ]
    },
    {
      "cell_type": "code",
      "metadata": {
        "id": "jmnAOx121NIV"
      },
      "source": [
        "# from tensorflow.keras.datasets import fashion_mnist\n",
        "# (x_train, y_train), (x_test, y_test) = fashion_mnist.load_data()"
      ],
      "execution_count": 6,
      "outputs": []
    },
    {
      "cell_type": "markdown",
      "metadata": {
        "id": "WwMoczCs1NIX"
      },
      "source": [
        "### 2. 欣賞數據集內容 (非執行必要)"
      ]
    },
    {
      "cell_type": "code",
      "metadata": {
        "id": "-OIfs7Ul1NIY",
        "colab": {
          "base_uri": "https://localhost:8080/"
        },
        "outputId": "7b14e62c-1d90-4adb-e58f-fe441e5d663b"
      },
      "source": [
        "len(x_train)"
      ],
      "execution_count": 7,
      "outputs": [
        {
          "output_type": "execute_result",
          "data": {
            "text/plain": [
              "60000"
            ]
          },
          "metadata": {},
          "execution_count": 7
        }
      ]
    },
    {
      "cell_type": "code",
      "metadata": {
        "id": "ViSZE3B81NIb",
        "colab": {
          "base_uri": "https://localhost:8080/"
        },
        "outputId": "0e9d4a79-a150-43ea-fd96-b10e11ed817d"
      },
      "source": [
        "len(x_test)"
      ],
      "execution_count": 8,
      "outputs": [
        {
          "output_type": "execute_result",
          "data": {
            "text/plain": [
              "10000"
            ]
          },
          "metadata": {},
          "execution_count": 8
        }
      ]
    },
    {
      "cell_type": "markdown",
      "metadata": {
        "id": "tc3aDrgcTw8s"
      },
      "source": [
        "##<font color=red>第一個改變\n",
        "\n",
        ">1.改變數據試試看，看看訓練資料的數據。  \n",
        "</font>"
      ]
    },
    {
      "cell_type": "code",
      "metadata": {
        "id": "grnXRipL1NIc"
      },
      "source": [
        "n = 2345"
      ],
      "execution_count": 9,
      "outputs": []
    },
    {
      "cell_type": "code",
      "metadata": {
        "id": "xL6co_W61NId",
        "colab": {
          "base_uri": "https://localhost:8080/"
        },
        "outputId": "e3df03d0-3f04-4953-bb29-9c79a4887025"
      },
      "source": [
        "x_train[n]"
      ],
      "execution_count": 10,
      "outputs": [
        {
          "output_type": "execute_result",
          "data": {
            "text/plain": [
              "array([[  0,   0,   0,   0,   0,   0,   0,   0,   0,   0,   0,   0,   0,\n",
              "          0,   0,   0,   0,   0,   0,   0,   0,   0,   0,   0,   0,   0,\n",
              "          0,   0],\n",
              "       [  0,   0,   0,   0,   0,   0,   0,   0,   0,   0,   0,   0,   0,\n",
              "          0,   0,   0,   0,   0,   0,   0,   0,   0,   0,   0,   0,   0,\n",
              "          0,   0],\n",
              "       [  0,   0,   0,   0,   0,   0,   0,   0,   0,   0,   0,   0,   0,\n",
              "          0,   0,   0,   0,  22, 183, 236,   0,   0,   0,   0,   0,   0,\n",
              "          0,   0],\n",
              "       [  0,   0,   0,   0,   0,   0,   0,   0,   0,   0,   0,   0,   0,\n",
              "          0,   0,   0,   0, 162, 252, 147,   0,   0,   0,   0,   0,   0,\n",
              "          0,   0],\n",
              "       [  0,   0,   0,   0,   0,   0,   0,   0,   0,   0,   0,   0,   0,\n",
              "          0,   0,   4, 136, 251, 247,  47,   0,   0,   0,   0,   0,   0,\n",
              "          0,   0],\n",
              "       [  0,   0,   0,   0,   0,   0,   0,   0,   0,   0,   0,   0,   0,\n",
              "          0,   0, 139, 252, 252, 119,   0,   0,   0,   0,   0,   0,   0,\n",
              "          0,   0],\n",
              "       [  0,   0,   0,   0,   0,   0,   0,   0,   0,   0,   0,   0,   0,\n",
              "          0, 132, 253, 252, 190,  14,   0,   0,   0,   0,   0,   0,   0,\n",
              "          0,   0],\n",
              "       [  0,   0,   0,   0,   0,   0,   0,   0,   0,   0,   0,   0,   4,\n",
              "        114, 236, 254, 239,  62,   0,   0,   0,   0,   0,   0,   0,   0,\n",
              "          0,   0],\n",
              "       [  0,   0,   0,   0,   0,   0,   0,   0,   0,   0,   0,   0,  92,\n",
              "        252, 252, 239, 112,   0,   0,   0,   0,   0,   0,   0,   0,   0,\n",
              "          0,   0],\n",
              "       [  0,   0,   0,   0,   0,   0,   0,   0,   0,   0,   0,  16, 234,\n",
              "        252, 252, 149,   0,   0,   0,   0,   0,   0,   0,   0,   0,   0,\n",
              "          0,   0],\n",
              "       [  0,   0,   0,   0,   0,   0,   0,   0,   0,   0,  38, 206, 252,\n",
              "        252, 199,   0,   0,   0,   0,   0,   0,   0,   0,   0,   0,   0,\n",
              "          0,   0],\n",
              "       [  0,   0,   0,   0,   0,   0,   0,   0,   0,   0, 192, 252, 252,\n",
              "        226,  24,   0,   0,   9, 176, 124, 194, 106,   9,   0,   0,   0,\n",
              "          0,   0],\n",
              "       [  0,   0,   0,   0,   0,   0,   0,   0,   0, 107, 254, 253, 253,\n",
              "         84,   0,   0,  50, 245, 253, 253, 255, 218,  92,   0,   0,   0,\n",
              "          0,   0],\n",
              "       [  0,   0,   0,   0,   0,   0,   0,   0,  22, 199, 253, 252, 201,\n",
              "         21,   0,  15, 185, 252, 252, 173,  95, 252, 231,   0,   0,   0,\n",
              "          0,   0],\n",
              "       [  0,   0,   0,   0,   0,   0,   0,   0, 160, 252, 253, 210,  19,\n",
              "          0,   9, 237, 252, 251,  91,  12,  87, 252, 187,   0,   0,   0,\n",
              "          0,   0],\n",
              "       [  0,   0,   0,   0,   0,   0,   0,  41, 225, 252, 243,  82,   0,\n",
              "          0, 132, 253, 252,  91,   0,   0,  43, 252, 231,   0,   0,   0,\n",
              "          0,   0],\n",
              "       [  0,   0,   0,   0,   0,   0,   0, 171, 252, 252, 211,   0,   0,\n",
              "         54, 246, 253, 182,   4,   0,   0, 175, 252, 231,   0,   0,   0,\n",
              "          0,   0],\n",
              "       [  0,   0,   0,   0,   0,   0,   0, 233, 253, 209,   0,   0,   9,\n",
              "        204, 253, 212,   0,   0,  38, 192, 255, 253,  21,   0,   0,   0,\n",
              "          0,   0],\n",
              "       [  0,   0,   0,   0,   0,   0,  64, 247, 252, 173,   0,   0, 131,\n",
              "        232, 252, 181, 121, 190, 206, 252, 239,  89,   5,   0,   0,   0,\n",
              "          0,   0],\n",
              "       [  0,   0,   0,   0,   0,   0,  85, 252, 252, 244, 233, 232, 251,\n",
              "        252, 252, 253, 252, 252, 167,  82,  17,   0,   0,   0,   0,   0,\n",
              "          0,   0],\n",
              "       [  0,   0,   0,   0,   0,   0,  64, 247, 252, 252, 253, 252, 252,\n",
              "        252, 252, 243, 189, 136,  28,   0,   0,   0,   0,   0,   0,   0,\n",
              "          0,   0],\n",
              "       [  0,   0,   0,   0,   0,   0,   0, 144, 252, 252, 253, 252, 252,\n",
              "        252, 208,  35,   0,   0,   0,   0,   0,   0,   0,   0,   0,   0,\n",
              "          0,   0],\n",
              "       [  0,   0,   0,   0,   0,   0,   0,   0,   0,   0,   0,   0,   0,\n",
              "          0,   0,   0,   0,   0,   0,   0,   0,   0,   0,   0,   0,   0,\n",
              "          0,   0],\n",
              "       [  0,   0,   0,   0,   0,   0,   0,   0,   0,   0,   0,   0,   0,\n",
              "          0,   0,   0,   0,   0,   0,   0,   0,   0,   0,   0,   0,   0,\n",
              "          0,   0],\n",
              "       [  0,   0,   0,   0,   0,   0,   0,   0,   0,   0,   0,   0,   0,\n",
              "          0,   0,   0,   0,   0,   0,   0,   0,   0,   0,   0,   0,   0,\n",
              "          0,   0],\n",
              "       [  0,   0,   0,   0,   0,   0,   0,   0,   0,   0,   0,   0,   0,\n",
              "          0,   0,   0,   0,   0,   0,   0,   0,   0,   0,   0,   0,   0,\n",
              "          0,   0],\n",
              "       [  0,   0,   0,   0,   0,   0,   0,   0,   0,   0,   0,   0,   0,\n",
              "          0,   0,   0,   0,   0,   0,   0,   0,   0,   0,   0,   0,   0,\n",
              "          0,   0],\n",
              "       [  0,   0,   0,   0,   0,   0,   0,   0,   0,   0,   0,   0,   0,\n",
              "          0,   0,   0,   0,   0,   0,   0,   0,   0,   0,   0,   0,   0,\n",
              "          0,   0]], dtype=uint8)"
            ]
          },
          "metadata": {},
          "execution_count": 10
        }
      ]
    },
    {
      "cell_type": "code",
      "metadata": {
        "id": "i0oH-yV61NIe",
        "colab": {
          "base_uri": "https://localhost:8080/"
        },
        "outputId": "3243dca0-5f2a-404e-9049-9473763b3621"
      },
      "source": [
        "y_train[n]"
      ],
      "execution_count": 11,
      "outputs": [
        {
          "output_type": "execute_result",
          "data": {
            "text/plain": [
              "6"
            ]
          },
          "metadata": {},
          "execution_count": 11
        }
      ]
    },
    {
      "cell_type": "code",
      "metadata": {
        "id": "3gDEyvOk1NIe",
        "colab": {
          "base_uri": "https://localhost:8080/",
          "height": 282
        },
        "outputId": "630f2881-7173-4d40-a30a-87d4619eefe5"
      },
      "source": [
        "plt.imshow(x_train[n], cmap='Greys')"
      ],
      "execution_count": 12,
      "outputs": [
        {
          "output_type": "execute_result",
          "data": {
            "text/plain": [
              "<matplotlib.image.AxesImage at 0x7fd55d322ad0>"
            ]
          },
          "metadata": {},
          "execution_count": 12
        },
        {
          "output_type": "display_data",
          "data": {
            "image/png": "[encoded data removed]",
            "text/plain": [
              "<Figure size 432x288 with 1 Axes>"
            ]
          },
          "metadata": {
            "needs_background": "light"
          }
        }
      ]
    },
    {
      "cell_type": "markdown",
      "metadata": {
        "id": "MUJ-PrR11NIf"
      },
      "source": [
        "### 3. 資料整理"
      ]
    },
    {
      "cell_type": "markdown",
      "metadata": {
        "id": "AxYq6vfD1NIf"
      },
      "source": [
        "先看個範例, 因為 `numpy` 「廣播」的特性, 我們對 `array` 中所有數字要同除以一個數可瞬間完成!"
      ]
    },
    {
      "cell_type": "code",
      "metadata": {
        "id": "7HRMKuQp1NIg"
      },
      "source": [
        "x_train = x_train.reshape(60000, 784)/255\n",
        "x_test = x_test.reshape(10000, 784)/255"
      ],
      "execution_count": 13,
      "outputs": []
    },
    {
      "cell_type": "code",
      "metadata": {
        "id": "5AE9mM1_1NIg"
      },
      "source": [
        "y_train = to_categorical(y_train, 10)\n",
        "y_test = to_categorical(y_test, 10)"
      ],
      "execution_count": 14,
      "outputs": []
    },
    {
      "cell_type": "markdown",
      "metadata": {
        "id": "wtcawiR91NIh"
      },
      "source": [
        "### 4. step 1: 打造神經網路"
      ]
    },
    {
      "cell_type": "code",
      "metadata": {
        "id": "88RzTv151NIh"
      },
      "source": [
        "model = Sequential()"
      ],
      "execution_count": 15,
      "outputs": []
    },
    {
      "cell_type": "markdown",
      "metadata": {
        "id": "_GkVIdX39pI-"
      },
      "source": [
        "##<font color=red>改變下面兩個狀況\n",
        "\n",
        ">2.activation function : 將\"relu\"換成\"sigmoid\"。  \n",
        ">3.多加一層有100個神經元的隱藏層。  \n",
        "</font>\n"
      ]
    },
    {
      "cell_type": "code",
      "metadata": {
        "id": "_xzU3GbI1NIi"
      },
      "source": [
        "model.add(Dense(100, input_dim=784, activation='sigmoid'))"
      ],
      "execution_count": 16,
      "outputs": []
    },
    {
      "cell_type": "code",
      "metadata": {
        "id": "3FE2H2Nn1NIi"
      },
      "source": [
        "model.add(Dense(100, activation='sigmoid'))"
      ],
      "execution_count": 17,
      "outputs": []
    },
    {
      "cell_type": "code",
      "metadata": {
        "id": "IhS9Gi76EImH"
      },
      "source": [
        "model.add(Dense(100, activation='sigmoid'))"
      ],
      "execution_count": 18,
      "outputs": []
    },
    {
      "cell_type": "code",
      "metadata": {
        "id": "7PzaQjGH1NIj"
      },
      "source": [
        "model.add(Dense(10, activation='sigmoid'))"
      ],
      "execution_count": 19,
      "outputs": []
    },
    {
      "cell_type": "markdown",
      "metadata": {
        "id": "vjYvfc_A1NIj"
      },
      "source": [
        "#### 組裝我們的神經網路"
      ]
    },
    {
      "cell_type": "markdown",
      "metadata": {
        "id": "JtW0VD3jHIRi"
      },
      "source": [
        "##<font color=red>再改變下面兩個狀況\n",
        "\n",
        ">4.loss function : 將\"mse\"換成\"categorical_crossentropy\"。  \n",
        ">5.optimizer : 將最佳化中\"SGD\"改成\"adam\"。  \n",
        "</font>"
      ]
    },
    {
      "cell_type": "code",
      "metadata": {
        "id": "Fgo5VBCB1NIj"
      },
      "source": [
        "model.compile(loss='categorical_crossentropy', optimizer=\"adam\", \n",
        "              metrics=['accuracy'])"
      ],
      "execution_count": 20,
      "outputs": []
    },
    {
      "cell_type": "markdown",
      "metadata": {
        "id": "n-3RUihl1NIk"
      },
      "source": [
        "#### 欣賞我們的作品"
      ]
    },
    {
      "cell_type": "code",
      "metadata": {
        "id": "_32Yvsn71NIk",
        "colab": {
          "base_uri": "https://localhost:8080/"
        },
        "outputId": "3e304cd8-4ae6-43ff-b147-b18e08fee243"
      },
      "source": [
        "model.summary()"
      ],
      "execution_count": 21,
      "outputs": [
        {
          "output_type": "stream",
          "name": "stdout",
          "text": [
            "Model: \"sequential\"\n",
            "_________________________________________________________________\n",
            "Layer (type)                 Output Shape              Param #   \n",
            "=================================================================\n",
            "dense (Dense)                (None, 100)               78500     \n",
            "_________________________________________________________________\n",
            "dense_1 (Dense)              (None, 100)               10100     \n",
            "_________________________________________________________________\n",
            "dense_2 (Dense)              (None, 100)               10100     \n",
            "_________________________________________________________________\n",
            "dense_3 (Dense)              (None, 10)                1010      \n",
            "=================================================================\n",
            "Total params: 99,710\n",
            "Trainable params: 99,710\n",
            "Non-trainable params: 0\n",
            "_________________________________________________________________\n"
          ]
        }
      ]
    },
    {
      "cell_type": "markdown",
      "metadata": {
        "id": "_8msKssa1NIl"
      },
      "source": [
        "### 5. step 2: 訓練"
      ]
    },
    {
      "cell_type": "code",
      "metadata": {
        "scrolled": true,
        "id": "P3FgrT8e1NIm",
        "colab": {
          "base_uri": "https://localhost:8080/"
        },
        "outputId": "2f20fc8c-c585-4c33-ac8d-ea7bfb58312c"
      },
      "source": [
        "model.fit(x_train, y_train, batch_size=100, epochs=10)"
      ],
      "execution_count": 22,
      "outputs": [
        {
          "output_type": "stream",
          "name": "stdout",
          "text": [
            "Epoch 1/10\n",
            "600/600 [==============================] - 3s 3ms/step - loss: 0.8178 - accuracy: 0.7673\n",
            "Epoch 2/10\n",
            "600/600 [==============================] - 2s 3ms/step - loss: 0.2545 - accuracy: 0.9276\n",
            "Epoch 3/10\n",
            "600/600 [==============================] - 2s 3ms/step - loss: 0.1776 - accuracy: 0.9489\n",
            "Epoch 4/10\n",
            "600/600 [==============================] - 2s 3ms/step - loss: 0.1361 - accuracy: 0.9606\n",
            "Epoch 5/10\n",
            "600/600 [==============================] - 2s 3ms/step - loss: 0.1087 - accuracy: 0.9686\n",
            "Epoch 6/10\n",
            "600/600 [==============================] - 2s 3ms/step - loss: 0.0905 - accuracy: 0.9735\n",
            "Epoch 7/10\n",
            "600/600 [==============================] - 2s 3ms/step - loss: 0.0762 - accuracy: 0.9783\n",
            "Epoch 8/10\n",
            "600/600 [==============================] - 2s 3ms/step - loss: 0.0654 - accuracy: 0.9809\n",
            "Epoch 9/10\n",
            "600/600 [==============================] - 2s 3ms/step - loss: 0.0561 - accuracy: 0.9834\n",
            "Epoch 10/10\n",
            "600/600 [==============================] - 2s 3ms/step - loss: 0.0479 - accuracy: 0.9858\n"
          ]
        },
        {
          "output_type": "execute_result",
          "data": {
            "text/plain": [
              "<keras.callbacks.History at 0x7fd4e4fa0390>"
            ]
          },
          "metadata": {},
          "execution_count": 22
        }
      ]
    },
    {
      "cell_type": "markdown",
      "metadata": {
        "id": "l4YkI5fuVCCm"
      },
      "source": [
        "##<font color=red>精確度提高至0.9867  \n",
        "</font>"
      ]
    },
    {
      "cell_type": "markdown",
      "metadata": {
        "id": "u_gUrRPI1NIn"
      },
      "source": [
        "### 6. step 3: 預測 (testing)"
      ]
    },
    {
      "cell_type": "code",
      "metadata": {
        "id": "gS34otqX1NIn"
      },
      "source": [
        "predict = np.argmax(model.predict(x_test), axis=-1)"
      ],
      "execution_count": 23,
      "outputs": []
    },
    {
      "cell_type": "markdown",
      "metadata": {
        "id": "RBd9dHgzVJiX"
      },
      "source": [
        "<font color=red>6.再改變下面的數據試試看\n",
        "\n",
        "</font>"
      ]
    },
    {
      "cell_type": "code",
      "metadata": {
        "id": "_KUWa8wY1NIo",
        "colab": {
          "base_uri": "https://localhost:8080/",
          "height": 282
        },
        "outputId": "b8901295-a6c5-45da-c077-6dbae3fa979d"
      },
      "source": [
        "n = 9998\n",
        "\n",
        "print('神經網路預測是:', predict[n])\n",
        "plt.imshow(x_test[n].reshape(28,28), cmap='Greys');"
      ],
      "execution_count": 24,
      "outputs": [
        {
          "output_type": "stream",
          "name": "stdout",
          "text": [
            "神經網路預測是: 5\n"
          ]
        },
        {
          "output_type": "display_data",
          "data": {
            "image/png": "[encoded data removed]",
            "text/plain": [
              "<Figure size 432x288 with 1 Axes>"
            ]
          },
          "metadata": {
            "needs_background": "light"
          }
        }
      ]
    },
    {
      "cell_type": "markdown",
      "metadata": {
        "id": "k_5uPG1j1NIo"
      },
      "source": [
        "### 7. 儲存我們的 model"
      ]
    },
    {
      "cell_type": "code",
      "metadata": {
        "id": "SCtocxpQ1NIp"
      },
      "source": [
        "#model.save(\"my_nn.h5\")"
      ],
      "execution_count": 25,
      "outputs": []
    },
    {
      "cell_type": "code",
      "metadata": {
        "id": "F9ilfTMI1NIp"
      },
      "source": [
        ""
      ],
      "execution_count": 25,
      "outputs": []
    }
  ]
}